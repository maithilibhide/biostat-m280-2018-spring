{
 "cells": [
  {
   "cell_type": "markdown",
   "metadata": {},
   "source": [
    "# Biostat M280 Homework 1\n",
    "\n",
    "#### Due Apr 27 @ 11:59PM"
   ]
  },
  {
   "cell_type": "markdown",
   "metadata": {},
   "source": [
    "## Q1\n",
    "\n",
    "**No handwritten homework reports are accepted for this course.**  We work with Git/GitHub.  Efficient and abundant use of Git, e.g., **frequent and well-documented** commits, is an important criterion for grading your homework.\n",
    "\n",
    "0. Apply for the [Student Developer Pack](https://education.github.com/pack) at GitHub using your UCLA email.\n",
    "\n",
    "0. Create a **private** repository `biostat-m280-2018-spring` and add `Hua-Zhou` and `LuZhangstat` (TA) as your collaborators.\n",
    "\n",
    "0. Top directories of the repository should be `hw1`, `hw2`, ... Create two branches `master` and `develop`. The `develop` branch will be your main playground, the place where you develop solution (code) to homework problems and write up report. The `master` branch will be your presentation area. Put your homework submission files (IJulia notebook `.ipynb`, html converted from notebook, all code and data set to reproduce results) in `master` branch.  \n",
    "\n",
    "0. After each homework due date, teaching assistant and instructor will check out your `master` branch for grading. Tag each of your homework submissions with tag names `hw1`, `hw2`, ...  Tagging time will be used as your submission time. That means if you tag your hw1 submission after deadline, penalty points will be deducted for late submission.  \n",
    "\n",
    "0. Read the [style guide](https://github.com/johnmyleswhite/Style.jl) for Julia programming by John Myles White. Following rules in the style guide will be strictly enforced when grading: (4), (6), (7), (8), (9), (12), (13) and (16)."
   ]
  },
  {
   "cell_type": "markdown",
   "metadata": {},
   "source": [
    "## Q2\n",
    "\n",
    "Let's check whether floating-point numbers obey certain algebraic rules.  \n",
    "0. Associative rule for addition says `(x + y) + z == x + (y + z)`. Check association rule using `x = 0.1`, `y = 0.1` and `z = 1.0` in Julia. Explain what you find.\n",
    "\n",
    "0. Do floating-point numbers obey the associative rule for multiplication: `(x * y) * z == x * (y * z)`?\n",
    "\n",
    "0. Do floating-point numbers obey the distributive rule: `a * (x + y) == a * x + a * y`?  \n",
    "\n",
    "0. Is `0 * x == 0` true for all floating-point number `x`?  \n",
    "\n",
    "0. Is `x / a == x * (1 / a)` always true?"
   ]
  },
  {
   "cell_type": "markdown",
   "metadata": {},
   "source": [
    "## A2.1"
   ]
  },
  {
   "cell_type": "code",
   "execution_count": 192,
   "metadata": {},
   "outputs": [],
   "source": [
    "x = 0.1\n",
    "y = 0.1 \n",
    "z = 1.0;"
   ]
  },
  {
   "cell_type": "code",
   "execution_count": 127,
   "metadata": {},
   "outputs": [
    {
     "data": {
      "text/plain": [
       "false"
      ]
     },
     "execution_count": 127,
     "metadata": {},
     "output_type": "execute_result"
    }
   ],
   "source": [
    "(x + y) + z == x + (y + z)"
   ]
  },
  {
   "cell_type": "code",
   "execution_count": 132,
   "metadata": {},
   "outputs": [
    {
     "data": {
      "text/plain": [
       "1.2"
      ]
     },
     "execution_count": 132,
     "metadata": {},
     "output_type": "execute_result"
    }
   ],
   "source": [
    "(x + y) + z"
   ]
  },
  {
   "cell_type": "code",
   "execution_count": 133,
   "metadata": {},
   "outputs": [
    {
     "data": {
      "text/plain": [
       "1.2000000000000002"
      ]
     },
     "execution_count": 133,
     "metadata": {},
     "output_type": "execute_result"
    }
   ],
   "source": [
    "x + (y + z)"
   ]
  },
  {
   "cell_type": "markdown",
   "metadata": {},
   "source": [
    "From the above results we can see that the **associative rule for addition** is **not valid** for floating point numbers. This is because floating point arithmetic uses a formulaic representation of real numbers as an approximation to support a trade-off between range and precision. Because of this approximate representation, the LHS and RHS do not match."
   ]
  },
  {
   "cell_type": "markdown",
   "metadata": {},
   "source": [
    "## A2.2"
   ]
  },
  {
   "cell_type": "code",
   "execution_count": 134,
   "metadata": {},
   "outputs": [
    {
     "data": {
      "text/plain": [
       "true"
      ]
     },
     "execution_count": 134,
     "metadata": {},
     "output_type": "execute_result"
    }
   ],
   "source": [
    "(x * y) * z == x * (y * z)"
   ]
  },
  {
   "cell_type": "code",
   "execution_count": 162,
   "metadata": {},
   "outputs": [
    {
     "data": {
      "text/plain": [
       "false"
      ]
     },
     "execution_count": 162,
     "metadata": {},
     "output_type": "execute_result"
    }
   ],
   "source": [
    "x = 0.1\n",
    "y = 0.1 \n",
    "z = 100.0;\n",
    "(x * y) * z == x * (y * z)"
   ]
  },
  {
   "cell_type": "code",
   "execution_count": 136,
   "metadata": {},
   "outputs": [
    {
     "data": {
      "text/plain": [
       "1.0000000000000002"
      ]
     },
     "execution_count": 136,
     "metadata": {},
     "output_type": "execute_result"
    }
   ],
   "source": [
    "(x * y) * z"
   ]
  },
  {
   "cell_type": "code",
   "execution_count": 137,
   "metadata": {},
   "outputs": [
    {
     "data": {
      "text/plain": [
       "1.0"
      ]
     },
     "execution_count": 137,
     "metadata": {},
     "output_type": "execute_result"
    }
   ],
   "source": [
    "x * (y * z)"
   ]
  },
  {
   "cell_type": "markdown",
   "metadata": {},
   "source": [
    "From the above results we can see that floating point numbers do **not obey** the **associative rule for multiplication**. This is because when the range of real number values is different, the approximation in floating point arithmetic varies and the LHS and RHS do not match."
   ]
  },
  {
   "cell_type": "markdown",
   "metadata": {},
   "source": [
    "## A2.3"
   ]
  },
  {
   "cell_type": "code",
   "execution_count": 164,
   "metadata": {},
   "outputs": [
    {
     "data": {
      "text/plain": [
       "false"
      ]
     },
     "execution_count": 164,
     "metadata": {},
     "output_type": "execute_result"
    }
   ],
   "source": [
    "a = 100.0\n",
    "x = 0.1\n",
    "y = 0.2;\n",
    "a * (x + y) == a * x + a * y"
   ]
  },
  {
   "cell_type": "code",
   "execution_count": 166,
   "metadata": {},
   "outputs": [
    {
     "data": {
      "text/plain": [
       "30.000000000000004"
      ]
     },
     "execution_count": 166,
     "metadata": {},
     "output_type": "execute_result"
    }
   ],
   "source": [
    "a * (x + y)"
   ]
  },
  {
   "cell_type": "code",
   "execution_count": 165,
   "metadata": {},
   "outputs": [
    {
     "data": {
      "text/plain": [
       "30.0"
      ]
     },
     "execution_count": 165,
     "metadata": {},
     "output_type": "execute_result"
    }
   ],
   "source": [
    "a * x + a * y"
   ]
  },
  {
   "cell_type": "markdown",
   "metadata": {},
   "source": [
    "From the above results we can see that floating point numbers do **not obey** the **distributive rule for multiplication**."
   ]
  },
  {
   "cell_type": "markdown",
   "metadata": {},
   "source": [
    "## A2.4"
   ]
  },
  {
   "cell_type": "code",
   "execution_count": 182,
   "metadata": {},
   "outputs": [
    {
     "data": {
      "text/plain": [
       "false"
      ]
     },
     "execution_count": 182,
     "metadata": {},
     "output_type": "execute_result"
    }
   ],
   "source": [
    "x = Inf;\n",
    "0 * x == 0"
   ]
  },
  {
   "cell_type": "code",
   "execution_count": 183,
   "metadata": {},
   "outputs": [
    {
     "data": {
      "text/plain": [
       "NaN"
      ]
     },
     "execution_count": 183,
     "metadata": {},
     "output_type": "execute_result"
    }
   ],
   "source": [
    "0 * x"
   ]
  },
  {
   "cell_type": "code",
   "execution_count": 184,
   "metadata": {},
   "outputs": [
    {
     "data": {
      "text/plain": [
       "Float64"
      ]
     },
     "execution_count": 184,
     "metadata": {},
     "output_type": "execute_result"
    }
   ],
   "source": [
    "typeof(x)"
   ]
  },
  {
   "cell_type": "markdown",
   "metadata": {},
   "source": [
    "`0 * x == 0` is **not true** for all floating point numbers. As we can see when x = infinity of type Float64, the equality does not hold."
   ]
  },
  {
   "cell_type": "markdown",
   "metadata": {},
   "source": [
    "## A2.5"
   ]
  },
  {
   "cell_type": "code",
   "execution_count": 199,
   "metadata": {
    "scrolled": true
   },
   "outputs": [
    {
     "data": {
      "text/plain": [
       "false"
      ]
     },
     "execution_count": 199,
     "metadata": {},
     "output_type": "execute_result"
    }
   ],
   "source": [
    "x = 0.1\n",
    "a = 5.0;\n",
    "x / a == x * (1 / a)"
   ]
  },
  {
   "cell_type": "code",
   "execution_count": 200,
   "metadata": {},
   "outputs": [
    {
     "data": {
      "text/plain": [
       "0.02"
      ]
     },
     "execution_count": 200,
     "metadata": {},
     "output_type": "execute_result"
    }
   ],
   "source": [
    "x / a"
   ]
  },
  {
   "cell_type": "code",
   "execution_count": 201,
   "metadata": {},
   "outputs": [
    {
     "data": {
      "text/plain": [
       "0.020000000000000004"
      ]
     },
     "execution_count": 201,
     "metadata": {},
     "output_type": "execute_result"
    }
   ],
   "source": [
    "x * (1 / a)"
   ]
  },
  {
   "cell_type": "markdown",
   "metadata": {},
   "source": [
    "`x / a == x * (1 / a)` is **not always true** for floating point numbers."
   ]
  },
  {
   "cell_type": "markdown",
   "metadata": {},
   "source": [
    "Note: In addition to the corner cases demonstrated above, floating point arithmetic is also prone to numerical underflow and overflow leading to incorrect answers."
   ]
  },
  {
   "cell_type": "markdown",
   "metadata": {},
   "source": [
    "## Q3\n",
    "\n",
    "Consider Julia function\n",
    "```julia\n",
    "function g(k)\n",
    "    for i = 1:10\n",
    "        k = 5k - 1\n",
    "    end\n",
    "    k\n",
    "end\n",
    "```\n",
    "0. Use `@code_llvm` to find the LLVM bitcode of compiled `g` with `Int64` input.   \n",
    "1. Use `@code_llvm` to find the LLVM bitcode of compiled `g` with `Float64` input.  \n",
    "2. Compare the bitcode from questions 1 and 2. What do you find?  \n",
    "3. Read Julia documentation on `@fastmath` and repeat the questions 1-3 on the function  \n",
    "\n",
    "```julia\n",
    "function g_fastmath(k)  \n",
    "    @fastmath for i = 1:10  \n",
    "        k = 5k - 1\n",
    "    end\n",
    "    k\n",
    "end\n",
    "```\n",
    "Explain what does macro `@fastmath` do?"
   ]
  },
  {
   "cell_type": "code",
   "execution_count": 202,
   "metadata": {},
   "outputs": [
    {
     "data": {
      "text/plain": [
       "g (generic function with 1 method)"
      ]
     },
     "execution_count": 202,
     "metadata": {},
     "output_type": "execute_result"
    }
   ],
   "source": [
    "function g(k)\n",
    "    for i = 1:10\n",
    "        k = 5k - 1\n",
    "    end\n",
    "    k\n",
    "end"
   ]
  },
  {
   "cell_type": "markdown",
   "metadata": {},
   "source": [
    "## A3.1"
   ]
  },
  {
   "cell_type": "code",
   "execution_count": 213,
   "metadata": {},
   "outputs": [
    {
     "name": "stdout",
     "output_type": "stream",
     "text": [
      "\n",
      "define i64 @julia_g_65254(i64) #0 !dbg !5 {\n",
      "top:\n",
      "  %1 = mul i64 %0, 9765625\n",
      "  %2 = add i64 %1, -2441406\n",
      "  ret i64 %2\n",
      "}\n"
     ]
    }
   ],
   "source": [
    "@code_llvm g(2)"
   ]
  },
  {
   "cell_type": "markdown",
   "metadata": {},
   "source": [
    "## A3.2"
   ]
  },
  {
   "cell_type": "code",
   "execution_count": 205,
   "metadata": {},
   "outputs": [
    {
     "name": "stdout",
     "output_type": "stream",
     "text": [
      "\n",
      "define double @julia_g_65249(double) #0 !dbg !5 {\n",
      "top:\n",
      "  %1 = fmul double %0, 5.000000e+00\n",
      "  %2 = fadd double %1, -1.000000e+00\n",
      "  %3 = fmul double %2, 5.000000e+00\n",
      "  %4 = fadd double %3, -1.000000e+00\n",
      "  %5 = fmul double %4, 5.000000e+00\n",
      "  %6 = fadd double %5, -1.000000e+00\n",
      "  %7 = fmul double %6, 5.000000e+00\n",
      "  %8 = fadd double %7, -1.000000e+00\n",
      "  %9 = fmul double %8, 5.000000e+00\n",
      "  %10 = fadd double %9, -1.000000e+00\n",
      "  %11 = fmul double %10, 5.000000e+00\n",
      "  %12 = fadd double %11, -1.000000e+00\n",
      "  %13 = fmul double %12, 5.000000e+00\n",
      "  %14 = fadd double %13, -1.000000e+00\n",
      "  %15 = fmul double %14, 5.000000e+00\n",
      "  %16 = fadd double %15, -1.000000e+00\n",
      "  %17 = fmul double %16, 5.000000e+00\n",
      "  %18 = fadd double %17, -1.000000e+00\n",
      "  %19 = fmul double %18, 5.000000e+00\n",
      "  %20 = fadd double %19, -1.000000e+00\n",
      "  ret double %20\n",
      "}\n"
     ]
    }
   ],
   "source": [
    "@code_llvm g(2.0)"
   ]
  },
  {
   "cell_type": "markdown",
   "metadata": {},
   "source": [
    "## A3.3\n",
    "From the bitcode for Q3.1 and Q3.2, we can see that the LLVM compiler identifies the argument type as Int64 and Float64 correctly without having to explicitly specify it and optimizes the for loop in the function g(k) for Int64 arguments. Because of the Just-in-time (JIT) compilation capabilities of LLVM, the Int64 code gets optimized such that the bitcode generated involves just 1 set of multiplication and addition instructions - for the last value that needs to be returned. As opposed to that, for Float64, the LLVM bitcode performs multiplication and addition in each iteration of the for loop in the function g(k). "
   ]
  },
  {
   "cell_type": "code",
   "execution_count": 214,
   "metadata": {},
   "outputs": [
    {
     "data": {
      "text/plain": [
       "g_fastmath (generic function with 1 method)"
      ]
     },
     "execution_count": 214,
     "metadata": {},
     "output_type": "execute_result"
    }
   ],
   "source": [
    "function g_fastmath(k)  \n",
    "    @fastmath for i = 1:10  \n",
    "        k = 5k - 1\n",
    "    end\n",
    "    k\n",
    "end"
   ]
  },
  {
   "cell_type": "code",
   "execution_count": 215,
   "metadata": {},
   "outputs": [
    {
     "name": "stdout",
     "output_type": "stream",
     "text": [
      "\n",
      "define i64 @julia_g_fastmath_65327(i64) #0 !dbg !5 {\n",
      "top:\n",
      "  %1 = mul i64 %0, 9765625\n",
      "  %2 = add i64 %1, -2441406\n",
      "  ret i64 %2\n",
      "}\n"
     ]
    }
   ],
   "source": [
    "@code_llvm g_fastmath(2)"
   ]
  },
  {
   "cell_type": "code",
   "execution_count": 216,
   "metadata": {},
   "outputs": [
    {
     "name": "stdout",
     "output_type": "stream",
     "text": [
      "\n",
      "define double @julia_g_fastmath_65328(double) #0 !dbg !5 {\n",
      "top:\n",
      "  %1 = fmul fast double %0, 9.765625e+06\n",
      "  %2 = fadd fast double %1, -2.441406e+06\n",
      "  ret double %2\n",
      "}\n"
     ]
    }
   ],
   "source": [
    "@code_llvm g_fastmath(2.0)"
   ]
  },
  {
   "cell_type": "markdown",
   "metadata": {},
   "source": [
    "## A3.4\n",
    "@fastmath allows floating point optimizations that are correct for real numbers, but lead to differences for IEEE numbers. By using @fastmath in the for loop in our new function, the bitcode for Float64 arguments gets optimized too. This results in just one set of float multiplicatio and addition instructions generated in the bitcode for a Float64 argument (similar to the bitcode for Int64) as opposed to the 20 pairs of multiplication and addition instructions seen before. "
   ]
  },
  {
   "cell_type": "markdown",
   "metadata": {},
   "source": [
    "## Q4\n",
    "\n",
    "Create the vector `x = (0.988, 0.989, 0.990, ..., 1.010, 1.011, 1.012)`.  \n",
    "0. Plot the polynomial `y = x^7 - 7x^6 + 21x^5 - 35x^4 + 35x^3 - 21x^2 + 7x -1` at points `x`.  \n",
    "\n",
    "1. Plot the polynomial `y = (x - 1)^7` at points `x`.  \n",
    "\n",
    "2. Explain what you found."
   ]
  },
  {
   "cell_type": "code",
   "execution_count": 225,
   "metadata": {},
   "outputs": [],
   "source": [
    "x = collect(0.988:0.001:1.012);"
   ]
  },
  {
   "cell_type": "markdown",
   "metadata": {},
   "source": [
    "## A4.1"
   ]
  },
  {
   "cell_type": "code",
   "execution_count": 226,
   "metadata": {},
   "outputs": [
    {
     "data": {
      "image/png": "[encoded data removed]",
      "text/plain": [
       "PyPlot.Figure(PyObject <Figure size 640x480 with 1 Axes>)"
      ]
     },
     "metadata": {},
     "output_type": "display_data"
    },
    {
     "data": {
      "text/plain": [
       "PyObject Text(0.5,1,'Plot of polynomial y at x')"
      ]
     },
     "execution_count": 226,
     "metadata": {},
     "output_type": "execute_result"
    }
   ],
   "source": [
    "y1 = x.^7 - 7x.^6 + 21x.^5 - 35x.^4 + 35x.^3 - 21x.^2 + 7x -1\n",
    "#Pkg.add(\"PyPlot\")\n",
    "using PyPlot\n",
    "plot(x, y1)\n",
    "xlabel(\"x\")\n",
    "ylabel(\"y\")\n",
    "title(\"Plot of polynomial y at x\")"
   ]
  },
  {
   "cell_type": "markdown",
   "metadata": {},
   "source": [
    "## A4.2"
   ]
  },
  {
   "cell_type": "code",
   "execution_count": 223,
   "metadata": {},
   "outputs": [
    {
     "data": {
      "image/png": "[encoded data removed]",
      "text/plain": [
       "PyPlot.Figure(PyObject <Figure size 640x480 with 1 Axes>)"
      ]
     },
     "metadata": {},
     "output_type": "display_data"
    },
    {
     "data": {
      "text/plain": [
       "PyObject Text(0.5,1,'Plot of polynomial y at x')"
      ]
     },
     "execution_count": 223,
     "metadata": {},
     "output_type": "execute_result"
    }
   ],
   "source": [
    "y2 = (x - 1).^7\n",
    "using PyPlot\n",
    "plot(x, y2)\n",
    "xlabel(\"x\")\n",
    "ylabel(\"y\")\n",
    "title(\"Plot of polynomial y at x\")"
   ]
  },
  {
   "cell_type": "markdown",
   "metadata": {},
   "source": [
    "## A4.3\n",
    "From the above 2 plots we can see that the curve is smoother for the second polynomial than it is for the first polynomial. This is because the second polynomial has only one power in its exponent, 7 leading to a uniformity in the floating point approximations for all values of x. As opposed to that, the first polynomial has 8 different powers in its exponent ranging from 7 to 0 each associated with a different constant as its multiplying factor. Although the first polynomial is simply the expanded form of the second polynomial, we obtain 2 different looking curves because of the floating point numbers in x. This behavior is especially pronounced when the value of y = 0. "
   ]
  },
  {
   "cell_type": "markdown",
   "metadata": {},
   "source": [
    "## Q5\n",
    "\n",
    "Let the $n \\times n$ matrix `H` have elements `H[i, j] = 1 / (i + j - 1)`.  \n",
    "0. Write a function `h(n)` that outputs $n \\times n$ matrix `H`. Try at least 3 ways, e.g., looping, [comprehension](https://docs.julialang.org/en/stable/manual/arrays/#Comprehensions-1), and vectorization. Compute and print `H` for `n = 5`.   \n",
    "0. Compare their efficiencies at `n = 1000`.\n",
    "0. Try different rounding modes (use function `setrounding(Float64, RoundingMode)`) and report the entry `inv(H)[1, 1]` for `n = 15`."
   ]
  },
  {
   "cell_type": "code",
   "execution_count": 262,
   "metadata": {},
   "outputs": [
    {
     "data": {
      "text/plain": [
       "h (generic function with 1 method)"
      ]
     },
     "execution_count": 262,
     "metadata": {},
     "output_type": "execute_result"
    }
   ],
   "source": [
    "function h(n, method)\n",
    "    H = zeros(n, n) \n",
    "    if method == 1\n",
    "        # looping\n",
    "        for i in 1:n\n",
    "            for j in 1:n\n",
    "                H[i, j] = 1 / (i + j - 1)\n",
    "            end\n",
    "        end\n",
    "    elseif method == 2\n",
    "        # comprehension\n",
    "        H = [[1 / (i + j - 1) for i=1:n] for j=1:n]\n",
    "    elseif method == 3\n",
    "        # vectorization\n",
    "        for i in 1:n\n",
    "            @simd for j in 1:n\n",
    "                @inbounds H[i, j] = 1 / (i + j - 1)\n",
    "            end\n",
    "        end  \n",
    "    else\n",
    "        println(\"Incorrect method\") \n",
    "    end\n",
    "    H\n",
    "end"
   ]
  },
  {
   "cell_type": "markdown",
   "metadata": {},
   "source": [
    "## A5.1"
   ]
  },
  {
   "cell_type": "code",
   "execution_count": 269,
   "metadata": {},
   "outputs": [
    {
     "data": {
      "text/plain": [
       "5×5 Array{Float64,2}:\n",
       " 1.0       0.5       0.333333  0.25      0.2     \n",
       " 0.5       0.333333  0.25      0.2       0.166667\n",
       " 0.333333  0.25      0.2       0.166667  0.142857\n",
       " 0.25      0.2       0.166667  0.142857  0.125   \n",
       " 0.2       0.166667  0.142857  0.125     0.111111"
      ]
     },
     "execution_count": 269,
     "metadata": {},
     "output_type": "execute_result"
    }
   ],
   "source": [
    "# looping\n",
    "h(5, 1)"
   ]
  },
  {
   "cell_type": "code",
   "execution_count": 270,
   "metadata": {},
   "outputs": [
    {
     "data": {
      "text/plain": [
       "5-element Array{Array{Float64,1},1}:\n",
       " [1.0, 0.5, 0.333333, 0.25, 0.2]           \n",
       " [0.5, 0.333333, 0.25, 0.2, 0.166667]      \n",
       " [0.333333, 0.25, 0.2, 0.166667, 0.142857] \n",
       " [0.25, 0.2, 0.166667, 0.142857, 0.125]    \n",
       " [0.2, 0.166667, 0.142857, 0.125, 0.111111]"
      ]
     },
     "execution_count": 270,
     "metadata": {},
     "output_type": "execute_result"
    }
   ],
   "source": [
    "# comprehension\n",
    "h(5, 2)"
   ]
  },
  {
   "cell_type": "code",
   "execution_count": 271,
   "metadata": {},
   "outputs": [
    {
     "data": {
      "text/plain": [
       "5×5 Array{Float64,2}:\n",
       " 1.0       0.5       0.333333  0.25      0.2     \n",
       " 0.5       0.333333  0.25      0.2       0.166667\n",
       " 0.333333  0.25      0.2       0.166667  0.142857\n",
       " 0.25      0.2       0.166667  0.142857  0.125   \n",
       " 0.2       0.166667  0.142857  0.125     0.111111"
      ]
     },
     "execution_count": 271,
     "metadata": {},
     "output_type": "execute_result"
    }
   ],
   "source": [
    "# vectorization\n",
    "h(5, 3)"
   ]
  },
  {
   "cell_type": "markdown",
   "metadata": {},
   "source": [
    "## A5.2"
   ]
  },
  {
   "cell_type": "code",
   "execution_count": 306,
   "metadata": {},
   "outputs": [
    {
     "data": {
      "text/plain": [
       "BenchmarkTools.Trial: \n",
       "  memory estimate:  7.63 MiB\n",
       "  allocs estimate:  2\n",
       "  --------------\n",
       "  minimum time:     4.873 ms (0.00% GC)\n",
       "  median time:      5.831 ms (0.00% GC)\n",
       "  mean time:        6.958 ms (17.76% GC)\n",
       "  maximum time:     27.728 ms (70.08% GC)\n",
       "  --------------\n",
       "  samples:          717\n",
       "  evals/sample:     1"
      ]
     },
     "execution_count": 306,
     "metadata": {},
     "output_type": "execute_result"
    }
   ],
   "source": [
    "# looping\n",
    "@benchmark h(1000, 1)"
   ]
  },
  {
   "cell_type": "code",
   "execution_count": 307,
   "metadata": {},
   "outputs": [
    {
     "data": {
      "text/plain": [
       "BenchmarkTools.Trial: \n",
       "  memory estimate:  15.39 MiB\n",
       "  allocs estimate:  1003\n",
       "  --------------\n",
       "  minimum time:     3.472 ms (0.00% GC)\n",
       "  median time:      7.125 ms (37.55% GC)\n",
       "  mean time:        6.639 ms (35.09% GC)\n",
       "  maximum time:     13.815 ms (52.22% GC)\n",
       "  --------------\n",
       "  samples:          751\n",
       "  evals/sample:     1"
      ]
     },
     "execution_count": 307,
     "metadata": {},
     "output_type": "execute_result"
    }
   ],
   "source": [
    "# comprehension\n",
    "@benchmark h(1000, 2)"
   ]
  },
  {
   "cell_type": "code",
   "execution_count": 308,
   "metadata": {},
   "outputs": [
    {
     "data": {
      "text/plain": [
       "BenchmarkTools.Trial: \n",
       "  memory estimate:  7.63 MiB\n",
       "  allocs estimate:  2\n",
       "  --------------\n",
       "  minimum time:     4.864 ms (0.00% GC)\n",
       "  median time:      5.320 ms (0.00% GC)\n",
       "  mean time:        6.390 ms (17.60% GC)\n",
       "  maximum time:     15.224 ms (35.06% GC)\n",
       "  --------------\n",
       "  samples:          780\n",
       "  evals/sample:     1"
      ]
     },
     "execution_count": 308,
     "metadata": {},
     "output_type": "execute_result"
    }
   ],
   "source": [
    "# vectorization\n",
    "@benchmark h(1000, 3)"
   ]
  },
  {
   "cell_type": "markdown",
   "metadata": {},
   "source": [
    "In the above function, 3 different methods - looping, list comprehension and vectorization have been implemented for creating the matrix H. Vectorization is of 2 types - 1) Writing your code in terms of operations that operate on whole arrays and 2) Compiler Transformations. This function demonstrates compiler transformations that exploit SIMD instructions when executing the nested for loop. The @simd macro gives the compiler license to vectorize without checking whether it will change the program's visible behavior. The vectorized code will behave as if the code were written to operate on chunks of the arrays. @simd promises that all iterations are independent of each other. @inbounds turns off subscrpt checking that might throw exceptions so as to avoid branching in code. Straight line loop body and unit-stride access pattern enable us to use this type of vectorization. \n",
    "As seen in the above benchmark results for n = 1000, we can see that list comprehension has the maximum number of memory estimate and allocations. The results for vectorization are better than looping but we cannot observe a significant difference as sometimes the LLVM compiler vectorizes loops by default."
   ]
  },
  {
   "cell_type": "markdown",
   "metadata": {},
   "source": [
    "## A5.3"
   ]
  },
  {
   "cell_type": "code",
   "execution_count": 252,
   "metadata": {},
   "outputs": [
    {
     "data": {
      "text/plain": [
       "158.1023247167468"
      ]
     },
     "execution_count": 252,
     "metadata": {},
     "output_type": "execute_result"
    }
   ],
   "source": [
    "H = h(15, 1);\n",
    "inv(H)[1, 1]"
   ]
  },
  {
   "cell_type": "code",
   "execution_count": 250,
   "metadata": {},
   "outputs": [
    {
     "data": {
      "text/plain": [
       "147.25887333601713"
      ]
     },
     "execution_count": 250,
     "metadata": {},
     "output_type": "execute_result"
    }
   ],
   "source": [
    "setrounding(Float64, RoundDown) do\n",
    "    inv(H)[1, 1]         \n",
    "end"
   ]
  },
  {
   "cell_type": "code",
   "execution_count": 251,
   "metadata": {},
   "outputs": [
    {
     "data": {
      "text/plain": [
       "151.9317292883061"
      ]
     },
     "execution_count": 251,
     "metadata": {},
     "output_type": "execute_result"
    }
   ],
   "source": [
    "setrounding(Float64, RoundUp) do\n",
    "    inv(H)[1, 1]         \n",
    "end"
   ]
  },
  {
   "cell_type": "code",
   "execution_count": 253,
   "metadata": {},
   "outputs": [
    {
     "data": {
      "text/plain": [
       "149.61413742601871"
      ]
     },
     "execution_count": 253,
     "metadata": {},
     "output_type": "execute_result"
    }
   ],
   "source": [
    "setrounding(Float64, RoundToZero) do\n",
    "    inv(H)[1, 1]         \n",
    "end"
   ]
  },
  {
   "cell_type": "code",
   "execution_count": 258,
   "metadata": {},
   "outputs": [
    {
     "data": {
      "text/plain": [
       "158.1023247167468"
      ]
     },
     "execution_count": 258,
     "metadata": {},
     "output_type": "execute_result"
    }
   ],
   "source": [
    "# default\n",
    "setrounding(Float64, RoundNearest) do\n",
    "    inv(H)[1, 1]         \n",
    "end"
   ]
  },
  {
   "cell_type": "markdown",
   "metadata": {},
   "source": [
    "## Q6\n",
    "\n",
    "0. Show the **Sherman-Morrison formula**\n",
    "$$\n",
    "\t(\\mathbf{A} + \\mathbf{u} \\mathbf{u}^T)^{-1} = \\mathbf{A}^{-1} - \\frac{1}{1 + \\mathbf{u}^T \\mathbf{A}^{-1} \\mathbf{u}} \\mathbf{A}^{-1} \\mathbf{u} \\mathbf{u}^T \\mathbf{A}^{-1},\n",
    "$$\n",
    "where $\\mathbf{A} \\in \\mathbb{R}^{n \\times n}$ is nonsingular and $\\mathbf{u} \\in \\mathbb{R}^n$. This formula supplies the inverse of the symmetric, rank-one  perturbation of $\\mathbf{A}$.\n",
    "\n",
    "0. Show the **Woodbury formula**\n",
    "$$\n",
    "\t(\\mathbf{A} + \\mathbf{U} \\mathbf{V}^T)^{-1} = \\mathbf{A}^{-1} - \\mathbf{A}^{-1} \\mathbf{U} (\\mathbf{I}_m + \\mathbf{V}^T \\mathbf{A}^{-1} \\mathbf{U})^{-1} \\mathbf{V}^T \\mathbf{A}^{-1},\n",
    "$$\n",
    "where $\\mathbf{A} \\in \\mathbb{R}^{n \\times n}$ is nonsingular, $\\mathbf{U}, \\mathbf{V} \\in \\mathbb{R}^{n \\times m}$, and $\\mathbf{I}_m$ is the $m \\times m$ identity matrix. In many applications $m$ is much smaller than $n$. Woodbury formula generalizes Sherman-Morrison and is valuable because the smaller matrix $\\mathbf{I}_m + \\mathbf{V}^T \\mathbf{A}^{-1} \\mathbf{U}$ is cheaper to invert than the larger matrix $\\mathbf{A} + \\mathbf{U} \\mathbf{V}^T$.\n",
    "\n",
    "0. Show the **binomial inversion formula**\n",
    "$$\n",
    "\t(\\mathbf{A} + \\mathbf{U} \\mathbf{B} \\mathbf{V}^T)^{-1} = \\mathbf{A}^{-1} - \\mathbf{A}^{-1} \\mathbf{U} (\\mathbf{B}^{-1} + \\mathbf{V}^T \\mathbf{A}^{-1} \\mathbf{U})^{-1} \\mathbf{V}^T \\mathbf{A}^{-1},\n",
    "$$\n",
    "where $\\mathbf{A}$ and $\\mathbf{B}$ are nonsingular.\n",
    "\n",
    "0. Show the identity\n",
    "$$\n",
    "\t\\text{det}(\\mathbf{A} + \\mathbf{U} \\mathbf{V}^T) = \\text{det}(\\mathbf{A}) \\text{det}(\\mathbf{I}_m + \\mathbf{V}^T \\mathbf{A}^{-1} \\mathbf{U}).\n",
    "$$\n",
    "This formula is useful for evaluating the density of a multivariate normal with covariance matrix $\\mathbf{A} + \\mathbf{U} \\mathbf{V}^T$."
   ]
  },
  {
   "cell_type": "markdown",
   "metadata": {},
   "source": [
    "## A6.1\n",
    "**Sherman-Morrison formula** "
   ]
  },
  {
   "cell_type": "markdown",
   "metadata": {},
   "source": [
    "## A6.2\n",
    "**Woodbury formula** "
   ]
  },
  {
   "cell_type": "markdown",
   "metadata": {},
   "source": [
    "## A6.3\n",
    "**Binomial inversion formula**"
   ]
  },
  {
   "cell_type": "markdown",
   "metadata": {},
   "source": [
    "## A6.4\n",
    "**Density of a multivariate normal with covariance matrix  A+UVT"
   ]
  },
  {
   "cell_type": "code",
   "execution_count": null,
   "metadata": {},
   "outputs": [],
   "source": []
  }
 ],
 "metadata": {
  "kernelspec": {
   "display_name": "Julia 0.6.2",
   "language": "julia",
   "name": "julia-0.6"
  },
  "language_info": {
   "file_extension": ".jl",
   "mimetype": "application/julia",
   "name": "julia",
   "version": "0.6.2"
  },
  "toc": {
   "colors": {
    "hover_highlight": "#DAA520",
    "running_highlight": "#FF0000",
    "selected_highlight": "#FFD700"
   },
   "moveMenuLeft": true,
   "nav_menu": {
    "height": "153px",
    "width": "252px"
   },
   "navigate_menu": true,
   "number_sections": false,
   "sideBar": true,
   "threshold": 4,
   "toc_cell": false,
   "toc_section_display": "block",
   "toc_window_display": true,
   "widenNotebook": false
  }
 },
 "nbformat": 4,
 "nbformat_minor": 2
}
